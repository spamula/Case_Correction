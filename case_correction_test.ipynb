{
 "cells": [
  {
   "cell_type": "markdown",
   "metadata": {},
   "source": [
    "# Case Correction using Python and CoreNLP - Test"
   ]
  },
  {
   "cell_type": "code",
   "execution_count": 1,
   "metadata": {
    "collapsed": true
   },
   "outputs": [],
   "source": [
    "import re\n",
    "import sys\n",
    "from corenlp_pywrap import pywrap\n",
    "cn = pywrap.CoreNLP(url='http://localhost:9000', annotator_list=['truecase'])"
   ]
  },
  {
   "cell_type": "code",
   "execution_count": 2,
   "metadata": {
    "collapsed": true
   },
   "outputs": [],
   "source": [
    "def print_clean(line):\n",
    "    line = line.lower()\n",
    "    out = cn.basic(line, out_format='json')\n",
    "    normalized_sent = [token['truecaseText'] for token in out.json()['sentences'][0]['tokens']]\n",
    "    pretty_string = re.sub(\" (?=[\\.,'!?:;])\", \"\", ' '.join(normalized_sent))\n",
    "    print pretty_string"
   ]
  },
  {
   "cell_type": "code",
   "execution_count": 3,
   "metadata": {},
   "outputs": [
    {
     "name": "stdout",
     "output_type": "stream",
     "text": [
      "Though South Sudan has suffered drought, the crisis has political rather than climatic causes.\n",
      "Civilians who have fled the violence to neighbouring countries say government troops, mostly drawn from Kiir's Dinka tribe, carry out killings and other crimes against Machar's Nuer and other smaller tribes suspected of supporting rebels.\n",
      "Mesut Özil wants superstar wages, but who really wants him?\n",
      "Nhs Services across England and some in Scotland have been hit by it failure, caused by a large-scale cyber-attack.\n",
      "NHS has been hit by it failure, caused by a large-scale cyber-attack.\n",
      "Jeff Horn won a bloody and brutal fight in Brisbane, scoring a unanimous decision victory over Manny Pacquiao on Sunday.\n",
      "Between Them Jessica ennis-hill, Christine Ohuruogu, Farah and Rutherford have won the vast majority of individual British gold medals at Olympics and world championships over the past decade.\n",
      "After many hours of questioning by Rajeev Menon, QC, David Duckenfield, who was the match commander for South Yorkshire Police on the day, slumped - and I saw a weak man.\n",
      "Lewis Hamilton and Valtteri bottas secured a Mercedes one-two in second practice at the Spanish Grand Prix, comfortably clear of the Ferraris.\n",
      "Police have arrested three people suspected of illegal betting in the Indian Premier League -LRB- IPL -RRB-.\n"
     ]
    }
   ],
   "source": [
    "f = open('sample.txt',\"r\")\n",
    "contents = f.readlines()\n",
    "[print_clean(x) for x in contents]\n",
    "f.close()"
   ]
  }
 ],
 "metadata": {
  "anaconda-cloud": {},
  "kernelspec": {
   "display_name": "Python [conda root]",
   "language": "python",
   "name": "conda-root-py"
  },
  "language_info": {
   "codemirror_mode": {
    "name": "ipython",
    "version": 2
   },
   "file_extension": ".py",
   "mimetype": "text/x-python",
   "name": "python",
   "nbconvert_exporter": "python",
   "pygments_lexer": "ipython2",
   "version": "2.7.13"
  }
 },
 "nbformat": 4,
 "nbformat_minor": 2
}
